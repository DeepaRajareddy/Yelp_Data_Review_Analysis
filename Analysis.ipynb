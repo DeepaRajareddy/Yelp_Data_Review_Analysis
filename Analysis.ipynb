{
 "cells": [
  {
   "cell_type": "markdown",
   "metadata": {},
   "source": [
    "# Analysis of Yelp Business Intelligence Data"
   ]
  },
  {
   "cell_type": "markdown",
   "metadata": {},
   "source": [
    "We will analyze a subset of Yelp's business, reviews and user data. This dataset comes to us from [Kaggle](https://www.kaggle.com/yelp-dataset/yelp-dataset) although we have taken steps to pull this data into a publis s3 bucket: `s3://sta9760-yelpdataset/yelp-light/*business.json`"
   ]
  },
  {
   "cell_type": "code",
   "execution_count": 1,
   "metadata": {},
   "outputs": [
    {
     "data": {
      "text/html": [
       "Current session configs: <tt>{'conf': {'spark.pyspark.python': 'python3', 'spark.pyspark.virtualenv.enabled': 'true', 'spark.pyspark.virtualenv.type': 'native', 'spark.pyspark.virtualenv.bin.path': '/usr/bin/virtualenv'}, 'kind': 'pyspark'}</tt><br>"
      ],
      "text/plain": [
       "<IPython.core.display.HTML object>"
      ]
     },
     "metadata": {},
     "output_type": "display_data"
    },
    {
     "data": {
      "text/html": [
       "No active sessions."
      ],
      "text/plain": [
       "<IPython.core.display.HTML object>"
      ]
     },
     "metadata": {},
     "output_type": "display_data"
    }
   ],
   "source": [
    "%info"
   ]
  },
  {
   "cell_type": "markdown",
   "metadata": {},
   "source": [
    "# Installation and Initial Setup"
   ]
  },
  {
   "cell_type": "markdown",
   "metadata": {},
   "source": [
    "Begin by installing the necessary libraries that you may need to conduct your analysis. At the very least, you must install `pandas` and `matplotlib`"
   ]
  },
  {
   "cell_type": "code",
   "execution_count": 2,
   "metadata": {},
   "outputs": [
    {
     "data": {
      "application/vnd.jupyter.widget-view+json": {
       "model_id": "b751bc205f4a44d7bcd4f28ac1888ee0",
       "version_major": 2,
       "version_minor": 0
      },
      "text/plain": [
       "VBox()"
      ]
     },
     "metadata": {},
     "output_type": "display_data"
    },
    {
     "data": {
      "application/vnd.jupyter.widget-view+json": {
       "model_id": "",
       "version_major": 2,
       "version_minor": 0
      },
      "text/plain": [
       "FloatProgress(value=0.0, bar_style='info', description='Progress:', layout=Layout(height='25px', width='50%'),…"
      ]
     },
     "metadata": {},
     "output_type": "display_data"
    },
    {
     "name": "stdout",
     "output_type": "stream",
     "text": [
      "Collecting pandas==1.0.3\n",
      "  Downloading pandas-1.0.3-cp36-cp36m-manylinux1_x86_64.whl (10.0 MB)\n",
      "Collecting python-dateutil>=2.6.1\n",
      "  Downloading python_dateutil-2.8.1-py2.py3-none-any.whl (227 kB)\n",
      "Requirement already satisfied: numpy>=1.13.3 in /usr/local/lib64/python3.6/site-packages (from pandas==1.0.3) (1.14.5)\n",
      "Requirement already satisfied: pytz>=2017.2 in /usr/local/lib/python3.6/site-packages (from pandas==1.0.3) (2019.3)\n",
      "Requirement already satisfied: six>=1.5 in /usr/local/lib/python3.6/site-packages (from python-dateutil>=2.6.1->pandas==1.0.3) (1.13.0)\n",
      "Installing collected packages: python-dateutil, pandas\n",
      "Successfully installed pandas-1.0.3 python-dateutil-2.8.1\n",
      "\n",
      "Collecting matplotlib==3.2.1\n",
      "  Downloading matplotlib-3.2.1-cp36-cp36m-manylinux1_x86_64.whl (12.4 MB)\n",
      "Collecting pyparsing!=2.0.4,!=2.1.2,!=2.1.6,>=2.0.1\n",
      "  Downloading pyparsing-2.4.7-py2.py3-none-any.whl (67 kB)\n",
      "Requirement already satisfied: numpy>=1.11 in /usr/local/lib64/python3.6/site-packages (from matplotlib==3.2.1) (1.14.5)\n",
      "Requirement already satisfied: python-dateutil>=2.1 in /mnt/tmp/1606002510917-0/lib/python3.6/site-packages (from matplotlib==3.2.1) (2.8.1)\n",
      "Collecting kiwisolver>=1.0.1\n",
      "  Downloading kiwisolver-1.3.1-cp36-cp36m-manylinux1_x86_64.whl (1.1 MB)\n",
      "Collecting cycler>=0.10\n",
      "  Downloading cycler-0.10.0-py2.py3-none-any.whl (6.5 kB)\n",
      "Requirement already satisfied: six>=1.5 in /usr/local/lib/python3.6/site-packages (from python-dateutil>=2.1->matplotlib==3.2.1) (1.13.0)\n",
      "Installing collected packages: pyparsing, kiwisolver, cycler, matplotlib\n",
      "Successfully installed cycler-0.10.0 kiwisolver-1.3.1 matplotlib-3.2.1 pyparsing-2.4.7\n",
      "\n",
      "Collecting seaborn==0.10.0\n",
      "  Downloading seaborn-0.10.0-py3-none-any.whl (215 kB)\n",
      "Collecting scipy>=1.0.1\n",
      "  Downloading scipy-1.5.4-cp36-cp36m-manylinux1_x86_64.whl (25.9 MB)\n",
      "Requirement already satisfied: matplotlib>=2.1.2 in /mnt/tmp/1606002510917-0/lib64/python3.6/site-packages (from seaborn==0.10.0) (3.2.1)\n",
      "Requirement already satisfied: pandas>=0.22.0 in /mnt/tmp/1606002510917-0/lib64/python3.6/site-packages (from seaborn==0.10.0) (1.0.3)\n",
      "Requirement already satisfied: numpy>=1.13.3 in /usr/local/lib64/python3.6/site-packages (from seaborn==0.10.0) (1.14.5)\n",
      "Requirement already satisfied: pyparsing!=2.0.4,!=2.1.2,!=2.1.6,>=2.0.1 in /mnt/tmp/1606002510917-0/lib/python3.6/site-packages (from matplotlib>=2.1.2->seaborn==0.10.0) (2.4.7)\n",
      "Requirement already satisfied: python-dateutil>=2.1 in /mnt/tmp/1606002510917-0/lib/python3.6/site-packages (from matplotlib>=2.1.2->seaborn==0.10.0) (2.8.1)\n",
      "Requirement already satisfied: kiwisolver>=1.0.1 in /mnt/tmp/1606002510917-0/lib64/python3.6/site-packages (from matplotlib>=2.1.2->seaborn==0.10.0) (1.3.1)\n",
      "Requirement already satisfied: cycler>=0.10 in /mnt/tmp/1606002510917-0/lib/python3.6/site-packages (from matplotlib>=2.1.2->seaborn==0.10.0) (0.10.0)\n",
      "Requirement already satisfied: pytz>=2017.2 in /usr/local/lib/python3.6/site-packages (from pandas>=0.22.0->seaborn==0.10.0) (2019.3)\n",
      "Requirement already satisfied: six>=1.5 in /usr/local/lib/python3.6/site-packages (from python-dateutil>=2.1->matplotlib>=2.1.2->seaborn==0.10.0) (1.13.0)\n",
      "Installing collected packages: scipy, seaborn\n",
      "Successfully installed scipy-1.5.4 seaborn-0.10.0"
     ]
    }
   ],
   "source": [
    "sc.install_pypi_package(\"pandas==1.0.3\")\n",
    "sc.install_pypi_package(\"matplotlib==3.2.1\")\n",
    "sc.install_pypi_package(\"seaborn==0.10.0\")"
   ]
  },
  {
   "cell_type": "markdown",
   "metadata": {},
   "source": [
    "## Importing"
   ]
  },
  {
   "cell_type": "markdown",
   "metadata": {},
   "source": [
    "Now, import the installed packages from the previous block below."
   ]
  },
  {
   "cell_type": "code",
   "execution_count": 3,
   "metadata": {},
   "outputs": [
    {
     "data": {
      "application/vnd.jupyter.widget-view+json": {
       "model_id": "22937c6712ff4b5fac54f4846668797d",
       "version_major": 2,
       "version_minor": 0
      },
      "text/plain": [
       "VBox()"
      ]
     },
     "metadata": {},
     "output_type": "display_data"
    },
    {
     "data": {
      "application/vnd.jupyter.widget-view+json": {
       "model_id": "",
       "version_major": 2,
       "version_minor": 0
      },
      "text/plain": [
       "FloatProgress(value=0.0, bar_style='info', description='Progress:', layout=Layout(height='25px', width='50%'),…"
      ]
     },
     "metadata": {},
     "output_type": "display_data"
    }
   ],
   "source": [
    "import numpy as np\n",
    "import pandas as pd\n",
    "import seaborn as sns\n",
    "import matplotlib.pyplot as plt\n",
    "from pyspark.sql import functions as F"
   ]
  },
  {
   "cell_type": "markdown",
   "metadata": {},
   "source": [
    "## Loading Data"
   ]
  },
  {
   "cell_type": "markdown",
   "metadata": {},
   "source": [
    "We are finally ready to load data. Using `spark` load the data from S3 into a `dataframe` object that we can manipulate further down in our analysis."
   ]
  },
  {
   "cell_type": "code",
   "execution_count": 4,
   "metadata": {},
   "outputs": [
    {
     "data": {
      "application/vnd.jupyter.widget-view+json": {
       "model_id": "22833a60f42147568d0949d80694749d",
       "version_major": 2,
       "version_minor": 0
      },
      "text/plain": [
       "VBox()"
      ]
     },
     "metadata": {},
     "output_type": "display_data"
    },
    {
     "data": {
      "application/vnd.jupyter.widget-view+json": {
       "model_id": "",
       "version_major": 2,
       "version_minor": 0
      },
      "text/plain": [
       "FloatProgress(value=0.0, bar_style='info', description='Progress:', layout=Layout(height='25px', width='50%'),…"
      ]
     },
     "metadata": {},
     "output_type": "display_data"
    }
   ],
   "source": [
    "business = spark.read.json('s3://sta9760f2020-project2-review-dataset/yelp_academic_dataset_business.json')"
   ]
  },
  {
   "cell_type": "markdown",
   "metadata": {},
   "source": [
    "## Overview of Data"
   ]
  },
  {
   "cell_type": "markdown",
   "metadata": {},
   "source": [
    "Display the number of rows and columns in our dataset."
   ]
  },
  {
   "cell_type": "code",
   "execution_count": 5,
   "metadata": {},
   "outputs": [
    {
     "data": {
      "application/vnd.jupyter.widget-view+json": {
       "model_id": "d470ce9a42414bf2a46b93561a413227",
       "version_major": 2,
       "version_minor": 0
      },
      "text/plain": [
       "VBox()"
      ]
     },
     "metadata": {},
     "output_type": "display_data"
    },
    {
     "data": {
      "application/vnd.jupyter.widget-view+json": {
       "model_id": "",
       "version_major": 2,
       "version_minor": 0
      },
      "text/plain": [
       "FloatProgress(value=0.0, bar_style='info', description='Progress:', layout=Layout(height='25px', width='50%'),…"
      ]
     },
     "metadata": {},
     "output_type": "display_data"
    },
    {
     "name": "stdout",
     "output_type": "stream",
     "text": [
      " Columns: 14 |  Rows: 209393"
     ]
    }
   ],
   "source": [
    "print(f' Columns: {len(business.dtypes)} |  Rows: {business.count():}')"
   ]
  },
  {
   "cell_type": "markdown",
   "metadata": {},
   "source": [
    "Display the DataFrame schema below."
   ]
  },
  {
   "cell_type": "code",
   "execution_count": 6,
   "metadata": {},
   "outputs": [
    {
     "data": {
      "application/vnd.jupyter.widget-view+json": {
       "model_id": "b39bdc8288d544bca5632ab10a637b64",
       "version_major": 2,
       "version_minor": 0
      },
      "text/plain": [
       "VBox()"
      ]
     },
     "metadata": {},
     "output_type": "display_data"
    },
    {
     "data": {
      "application/vnd.jupyter.widget-view+json": {
       "model_id": "",
       "version_major": 2,
       "version_minor": 0
      },
      "text/plain": [
       "FloatProgress(value=0.0, bar_style='info', description='Progress:', layout=Layout(height='25px', width='50%'),…"
      ]
     },
     "metadata": {},
     "output_type": "display_data"
    },
    {
     "name": "stdout",
     "output_type": "stream",
     "text": [
      "root\n",
      " |-- address: string (nullable = true)\n",
      " |-- attributes: struct (nullable = true)\n",
      " |    |-- AcceptsInsurance: string (nullable = true)\n",
      " |    |-- AgesAllowed: string (nullable = true)\n",
      " |    |-- Alcohol: string (nullable = true)\n",
      " |    |-- Ambience: string (nullable = true)\n",
      " |    |-- BYOB: string (nullable = true)\n",
      " |    |-- BYOBCorkage: string (nullable = true)\n",
      " |    |-- BestNights: string (nullable = true)\n",
      " |    |-- BikeParking: string (nullable = true)\n",
      " |    |-- BusinessAcceptsBitcoin: string (nullable = true)\n",
      " |    |-- BusinessAcceptsCreditCards: string (nullable = true)\n",
      " |    |-- BusinessParking: string (nullable = true)\n",
      " |    |-- ByAppointmentOnly: string (nullable = true)\n",
      " |    |-- Caters: string (nullable = true)\n",
      " |    |-- CoatCheck: string (nullable = true)\n",
      " |    |-- Corkage: string (nullable = true)\n",
      " |    |-- DietaryRestrictions: string (nullable = true)\n",
      " |    |-- DogsAllowed: string (nullable = true)\n",
      " |    |-- DriveThru: string (nullable = true)\n",
      " |    |-- GoodForDancing: string (nullable = true)\n",
      " |    |-- GoodForKids: string (nullable = true)\n",
      " |    |-- GoodForMeal: string (nullable = true)\n",
      " |    |-- HairSpecializesIn: string (nullable = true)\n",
      " |    |-- HappyHour: string (nullable = true)\n",
      " |    |-- HasTV: string (nullable = true)\n",
      " |    |-- Music: string (nullable = true)\n",
      " |    |-- NoiseLevel: string (nullable = true)\n",
      " |    |-- Open24Hours: string (nullable = true)\n",
      " |    |-- OutdoorSeating: string (nullable = true)\n",
      " |    |-- RestaurantsAttire: string (nullable = true)\n",
      " |    |-- RestaurantsCounterService: string (nullable = true)\n",
      " |    |-- RestaurantsDelivery: string (nullable = true)\n",
      " |    |-- RestaurantsGoodForGroups: string (nullable = true)\n",
      " |    |-- RestaurantsPriceRange2: string (nullable = true)\n",
      " |    |-- RestaurantsReservations: string (nullable = true)\n",
      " |    |-- RestaurantsTableService: string (nullable = true)\n",
      " |    |-- RestaurantsTakeOut: string (nullable = true)\n",
      " |    |-- Smoking: string (nullable = true)\n",
      " |    |-- WheelchairAccessible: string (nullable = true)\n",
      " |    |-- WiFi: string (nullable = true)\n",
      " |-- business_id: string (nullable = true)\n",
      " |-- categories: string (nullable = true)\n",
      " |-- city: string (nullable = true)\n",
      " |-- hours: struct (nullable = true)\n",
      " |    |-- Friday: string (nullable = true)\n",
      " |    |-- Monday: string (nullable = true)\n",
      " |    |-- Saturday: string (nullable = true)\n",
      " |    |-- Sunday: string (nullable = true)\n",
      " |    |-- Thursday: string (nullable = true)\n",
      " |    |-- Tuesday: string (nullable = true)\n",
      " |    |-- Wednesday: string (nullable = true)\n",
      " |-- is_open: long (nullable = true)\n",
      " |-- latitude: double (nullable = true)\n",
      " |-- longitude: double (nullable = true)\n",
      " |-- name: string (nullable = true)\n",
      " |-- postal_code: string (nullable = true)\n",
      " |-- review_count: long (nullable = true)\n",
      " |-- stars: double (nullable = true)\n",
      " |-- state: string (nullable = true)"
     ]
    }
   ],
   "source": [
    "business.printSchema()"
   ]
  },
  {
   "cell_type": "markdown",
   "metadata": {},
   "source": [
    "Display the first 5 rows with the following columns:\n",
    "\n",
    "* `business_id`\n",
    "* `name`\n",
    "* `city`\n",
    "* `state`\n",
    "* `categories`"
   ]
  },
  {
   "cell_type": "code",
   "execution_count": 7,
   "metadata": {
    "scrolled": true
   },
   "outputs": [
    {
     "data": {
      "application/vnd.jupyter.widget-view+json": {
       "model_id": "ba6a8c0e3b664028bd15e409fd7fef9d",
       "version_major": 2,
       "version_minor": 0
      },
      "text/plain": [
       "VBox()"
      ]
     },
     "metadata": {},
     "output_type": "display_data"
    },
    {
     "data": {
      "application/vnd.jupyter.widget-view+json": {
       "model_id": "",
       "version_major": 2,
       "version_minor": 0
      },
      "text/plain": [
       "FloatProgress(value=0.0, bar_style='info', description='Progress:', layout=Layout(height='25px', width='50%'),…"
      ]
     },
     "metadata": {},
     "output_type": "display_data"
    },
    {
     "name": "stdout",
     "output_type": "stream",
     "text": [
      "+--------------------+--------------------+---------------+-----+-----+--------------------+\n",
      "|         business_id|                name|           city|state|stars|          categories|\n",
      "+--------------------+--------------------+---------------+-----+-----+--------------------+\n",
      "|f9NumwFMBDn751xgF...|The Range At Lake...|      Cornelius|   NC|  3.5|Active Life, Gun/...|\n",
      "|Yzvjg0SayhoZgCljU...|   Carlos Santo, NMD|     Scottsdale|   AZ|  5.0|Health & Medical,...|\n",
      "|XNoUzKckATkOD1hP6...|             Felinus|       Montreal|   QC|  5.0|Pets, Pet Service...|\n",
      "|6OAZjbxqM5ol29BuH...|Nevada House of Hose|North Las Vegas|   NV|  2.5|Hardware Stores, ...|\n",
      "|51M2Kk903DFYI6gnB...|USE MY GUY SERVIC...|           Mesa|   AZ|  4.5|Home Services, Pl...|\n",
      "+--------------------+--------------------+---------------+-----+-----+--------------------+\n",
      "only showing top 5 rows"
     ]
    }
   ],
   "source": [
    "#df.select('business_id','name','city','state','stars','categories').show(5, truncate=True)\n",
    "business.createOrReplaceTempView('YelpBusiness')\n",
    "sqldf = spark.sql(\n",
    "'''\n",
    "SELECT `business_id`, `name`, `city`, `state`, `stars`,`categories`\n",
    "FROM YelpBusiness\n",
    "\n",
    "'''\n",
    ")\n",
    "sqldf.show(5)"
   ]
  },
  {
   "cell_type": "markdown",
   "metadata": {},
   "source": [
    "# Analyzing Categories"
   ]
  },
  {
   "cell_type": "markdown",
   "metadata": {},
   "source": [
    "Let's now answer this question: **how many unique categories are represented in this dataset?**\n",
    "\n",
    "Essentially, we have the categories per business as a list - this is useful to quickly see what each business might be represented as but it is difficult to easily answer questions such as:\n",
    "\n",
    "* How many businesses are categorized as `Active Life`, for instance\n",
    "* What are the top 20 most popular categories available?"
   ]
  },
  {
   "cell_type": "markdown",
   "metadata": {},
   "source": [
    "## Association Table\n",
    "\n",
    "We need to \"break out\" these categories from the business ids? One common approach to take is to build an association table mapping a single business id multiple times to each distinct category.\n",
    "\n",
    "For instance, given the following:\n",
    "\n",
    "\n",
    "| business_id | categories |\n",
    "|-------------|------------|\n",
    "| abcd123     | a,b,c      |\n",
    "\n",
    "We would like to derive something like:\n",
    "\n",
    "| business_id | category |\n",
    "|-------------|------------|\n",
    "| abcd123     | a          |\n",
    "| abcd123     | b          |\n",
    "| abcd123     | c          |\n",
    "\n",
    "\n",
    "What this does is allow us to then perform a myriad of rollups and other analysis on this association table which can aid us in answering the questions asked above.\n",
    "\n",
    "Implement the code necessary to derive the table described from your original yelp dataframe."
   ]
  },
  {
   "cell_type": "code",
   "execution_count": 8,
   "metadata": {},
   "outputs": [
    {
     "data": {
      "application/vnd.jupyter.widget-view+json": {
       "model_id": "84ec3894939742119c1531705e249536",
       "version_major": 2,
       "version_minor": 0
      },
      "text/plain": [
       "VBox()"
      ]
     },
     "metadata": {},
     "output_type": "display_data"
    },
    {
     "data": {
      "application/vnd.jupyter.widget-view+json": {
       "model_id": "",
       "version_major": 2,
       "version_minor": 0
      },
      "text/plain": [
       "FloatProgress(value=0.0, bar_style='info', description='Progress:', layout=Layout(height='25px', width='50%'),…"
      ]
     },
     "metadata": {},
     "output_type": "display_data"
    }
   ],
   "source": [
    "from pyspark.sql.functions import split, explode, ltrim\n",
    "df1 = sqldf.withColumn('categories',explode(split('categories',',')))\n",
    "df1 = df1.withColumn('categories',ltrim(df1.categories))"
   ]
  },
  {
   "cell_type": "markdown",
   "metadata": {},
   "source": [
    "Display the first 5 rows of your association table below."
   ]
  },
  {
   "cell_type": "code",
   "execution_count": 9,
   "metadata": {},
   "outputs": [
    {
     "data": {
      "application/vnd.jupyter.widget-view+json": {
       "model_id": "bf6ff5bdf07f426784c385ee52768046",
       "version_major": 2,
       "version_minor": 0
      },
      "text/plain": [
       "VBox()"
      ]
     },
     "metadata": {},
     "output_type": "display_data"
    },
    {
     "data": {
      "application/vnd.jupyter.widget-view+json": {
       "model_id": "",
       "version_major": 2,
       "version_minor": 0
      },
      "text/plain": [
       "FloatProgress(value=0.0, bar_style='info', description='Progress:', layout=Layout(height='25px', width='50%'),…"
      ]
     },
     "metadata": {},
     "output_type": "display_data"
    },
    {
     "name": "stdout",
     "output_type": "stream",
     "text": [
      "+--------------------+----------------+\n",
      "|         business_id|      categories|\n",
      "+--------------------+----------------+\n",
      "|f9NumwFMBDn751xgF...|     Active Life|\n",
      "|f9NumwFMBDn751xgF...|Gun/Rifle Ranges|\n",
      "|f9NumwFMBDn751xgF...|     Guns & Ammo|\n",
      "|f9NumwFMBDn751xgF...|        Shopping|\n",
      "|Yzvjg0SayhoZgCljU...|Health & Medical|\n",
      "+--------------------+----------------+\n",
      "only showing top 5 rows"
     ]
    }
   ],
   "source": [
    "df1.select('business_id','categories').show(5)"
   ]
  },
  {
   "cell_type": "markdown",
   "metadata": {},
   "source": [
    "## Total Unique Categories\n",
    "\n",
    "Finally, we are ready to answer the question: **what is the total number of unique categories available?**\n",
    "\n",
    "Below, implement the code necessary to calculate this figure."
   ]
  },
  {
   "cell_type": "code",
   "execution_count": 10,
   "metadata": {},
   "outputs": [
    {
     "data": {
      "application/vnd.jupyter.widget-view+json": {
       "model_id": "46d0fb32b28c4b4692a5f3cb1e85aab7",
       "version_major": 2,
       "version_minor": 0
      },
      "text/plain": [
       "VBox()"
      ]
     },
     "metadata": {},
     "output_type": "display_data"
    },
    {
     "data": {
      "application/vnd.jupyter.widget-view+json": {
       "model_id": "",
       "version_major": 2,
       "version_minor": 0
      },
      "text/plain": [
       "FloatProgress(value=0.0, bar_style='info', description='Progress:', layout=Layout(height='25px', width='50%'),…"
      ]
     },
     "metadata": {},
     "output_type": "display_data"
    },
    {
     "name": "stdout",
     "output_type": "stream",
     "text": [
      "1336"
     ]
    }
   ],
   "source": [
    "df1.select('categories').distinct().count()"
   ]
  },
  {
   "cell_type": "markdown",
   "metadata": {},
   "source": [
    "## Top Categories By Business\n",
    "\n",
    "Now let's find the top categories in this dataset by rolling up categories."
   ]
  },
  {
   "cell_type": "markdown",
   "metadata": {},
   "source": [
    "### Counts of Businesses / Category"
   ]
  },
  {
   "cell_type": "markdown",
   "metadata": {},
   "source": [
    "So now, let's unroll our distinct count a bit and display the per count value of businesses per category.\n",
    "\n",
    "The expected output should be:\n",
    "\n",
    "| category | count |\n",
    "|-------------|------------|\n",
    "| a     | 15         |\n",
    "| b     | 2          |\n",
    "| c     | 45          |\n",
    "\n",
    "Or something to that effect."
   ]
  },
  {
   "cell_type": "code",
   "execution_count": 11,
   "metadata": {},
   "outputs": [
    {
     "data": {
      "application/vnd.jupyter.widget-view+json": {
       "model_id": "f23e3da9f46a4cbea5d08e047e1762b6",
       "version_major": 2,
       "version_minor": 0
      },
      "text/plain": [
       "VBox()"
      ]
     },
     "metadata": {},
     "output_type": "display_data"
    },
    {
     "data": {
      "application/vnd.jupyter.widget-view+json": {
       "model_id": "",
       "version_major": 2,
       "version_minor": 0
      },
      "text/plain": [
       "FloatProgress(value=0.0, bar_style='info', description='Progress:', layout=Layout(height='25px', width='50%'),…"
      ]
     },
     "metadata": {},
     "output_type": "display_data"
    },
    {
     "name": "stdout",
     "output_type": "stream",
     "text": [
      "+--------------------+-----+\n",
      "|          categories|count|\n",
      "+--------------------+-----+\n",
      "|         Restaurants|63944|\n",
      "|            Shopping|34644|\n",
      "|                Food|32991|\n",
      "|       Home Services|22487|\n",
      "|       Beauty & Spas|20520|\n",
      "|    Health & Medical|19227|\n",
      "|      Local Services|15783|\n",
      "|          Automotive|14720|\n",
      "|           Nightlife|14211|\n",
      "|                Bars|12400|\n",
      "|Event Planning & ...|11263|\n",
      "|         Active Life|10225|\n",
      "|        Coffee & Tea| 8415|\n",
      "|             Fashion| 8374|\n",
      "|           Fast Food| 8106|\n",
      "|          Sandwiches| 8064|\n",
      "|American (Traditi...| 7596|\n",
      "|       Home & Garden| 7331|\n",
      "|         Hair Salons| 7303|\n",
      "|               Pizza| 7302|\n",
      "+--------------------+-----+\n",
      "only showing top 20 rows"
     ]
    }
   ],
   "source": [
    "df2=df1.groupby('categories').count().orderBy(\"count\", ascending=False)\n",
    "df2.show(20)"
   ]
  },
  {
   "cell_type": "markdown",
   "metadata": {},
   "source": [
    "### Bar Chart of Top Categories\n",
    "\n",
    "With this data available, let us now build a barchart of the top 20 categories. \n",
    "\n",
    "**HINT**: don't forget about the matplotlib magic!\n",
    "\n",
    "```\n",
    "%matplot plt\n",
    "```"
   ]
  },
  {
   "cell_type": "code",
   "execution_count": 12,
   "metadata": {},
   "outputs": [
    {
     "data": {
      "application/vnd.jupyter.widget-view+json": {
       "model_id": "986f9aec1608459d8510d6ad57e99f1e",
       "version_major": 2,
       "version_minor": 0
      },
      "text/plain": [
       "VBox()"
      ]
     },
     "metadata": {},
     "output_type": "display_data"
    },
    {
     "data": {
      "application/vnd.jupyter.widget-view+json": {
       "model_id": "",
       "version_major": 2,
       "version_minor": 0
      },
      "text/plain": [
       "FloatProgress(value=0.0, bar_style='info', description='Progress:', layout=Layout(height='25px', width='50%'),…"
      ]
     },
     "metadata": {},
     "output_type": "display_data"
    }
   ],
   "source": [
    "result_pdf = df2.limit(20).toPandas()"
   ]
  },
  {
   "cell_type": "code",
   "execution_count": 14,
   "metadata": {},
   "outputs": [
    {
     "data": {
      "application/vnd.jupyter.widget-view+json": {
       "model_id": "8bcfc1c38c7a426c9d96528f9c1a0178",
       "version_major": 2,
       "version_minor": 0
      },
      "text/plain": [
       "VBox()"
      ]
     },
     "metadata": {},
     "output_type": "display_data"
    },
    {
     "data": {
      "application/vnd.jupyter.widget-view+json": {
       "model_id": "",
       "version_major": 2,
       "version_minor": 0
      },
      "text/plain": [
       "FloatProgress(value=0.0, bar_style='info', description='Progress:', layout=Layout(height='25px', width='50%'),…"
      ]
     },
     "metadata": {},
     "output_type": "display_data"
    },
    {
     "data": {
      "image/png": "[encoded data removed]",
      "text/plain": [
       "<IPython.core.display.Image object>"
      ]
     },
     "metadata": {},
     "output_type": "display_data"
    }
   ],
   "source": [
    "sns.set(style=\"whitegrid\", color_codes=True)\n",
    "sns.barplot(result_pdf['count'],result_pdf['categories'])    \n",
    "plt.title('Top Categories by Business')\n",
    "plt.xlabel('count')\n",
    "plt.ylabel('category')\n",
    "plt.tight_layout()\n",
    "plt.legend('')\n",
    "plt.box(False)\n",
    "%matplot plt"
   ]
  },
  {
   "cell_type": "markdown",
   "metadata": {},
   "source": [
    "# Do Yelp Reviews Skew Negative?\n",
    "\n",
    "Oftentimes, it is said that the only people who write a written review are those who are extremely _dissatisfied_ or extremely _satisfied_ with the service received. \n",
    "\n",
    "How true is this really? Let's try and answer this question."
   ]
  },
  {
   "cell_type": "markdown",
   "metadata": {},
   "source": [
    "## Loading User Data\n",
    "\n",
    "Begin by loading the user data set from S3 and printing schema to determine what data is available."
   ]
  },
  {
   "cell_type": "code",
   "execution_count": 15,
   "metadata": {},
   "outputs": [
    {
     "data": {
      "application/vnd.jupyter.widget-view+json": {
       "model_id": "60629ae7fb4b47da9f264276ae1e7884",
       "version_major": 2,
       "version_minor": 0
      },
      "text/plain": [
       "VBox()"
      ]
     },
     "metadata": {},
     "output_type": "display_data"
    },
    {
     "data": {
      "application/vnd.jupyter.widget-view+json": {
       "model_id": "",
       "version_major": 2,
       "version_minor": 0
      },
      "text/plain": [
       "FloatProgress(value=0.0, bar_style='info', description='Progress:', layout=Layout(height='25px', width='50%'),…"
      ]
     },
     "metadata": {},
     "output_type": "display_data"
    }
   ],
   "source": [
    "review=spark.read.json('s3://sta9760f2020-project2-review-dataset/yelp_academic_dataset_review.json')\n"
   ]
  },
  {
   "cell_type": "code",
   "execution_count": 27,
   "metadata": {},
   "outputs": [
    {
     "data": {
      "application/vnd.jupyter.widget-view+json": {
       "model_id": "44334e97c86543be8c96304f29099f4e",
       "version_major": 2,
       "version_minor": 0
      },
      "text/plain": [
       "VBox()"
      ]
     },
     "metadata": {},
     "output_type": "display_data"
    },
    {
     "data": {
      "application/vnd.jupyter.widget-view+json": {
       "model_id": "",
       "version_major": 2,
       "version_minor": 0
      },
      "text/plain": [
       "FloatProgress(value=0.0, bar_style='info', description='Progress:', layout=Layout(height='25px', width='50%'),…"
      ]
     },
     "metadata": {},
     "output_type": "display_data"
    },
    {
     "name": "stdout",
     "output_type": "stream",
     "text": [
      "DataFrame[business_id: string, cool: bigint, date: string, funny: bigint, review_id: string, stars: double, text: string, useful: bigint, user_id: string]"
     ]
    }
   ],
   "source": [
    "review"
   ]
  },
  {
   "cell_type": "markdown",
   "metadata": {},
   "source": [
    "Let's begin by listing the `business_id` and `stars` columns together for the user reviews data."
   ]
  },
  {
   "cell_type": "code",
   "execution_count": 16,
   "metadata": {},
   "outputs": [
    {
     "data": {
      "application/vnd.jupyter.widget-view+json": {
       "model_id": "8d1e3466d21a477897fa19da776dd116",
       "version_major": 2,
       "version_minor": 0
      },
      "text/plain": [
       "VBox()"
      ]
     },
     "metadata": {},
     "output_type": "display_data"
    },
    {
     "data": {
      "application/vnd.jupyter.widget-view+json": {
       "model_id": "",
       "version_major": 2,
       "version_minor": 0
      },
      "text/plain": [
       "FloatProgress(value=0.0, bar_style='info', description='Progress:', layout=Layout(height='25px', width='50%'),…"
      ]
     },
     "metadata": {},
     "output_type": "display_data"
    },
    {
     "name": "stdout",
     "output_type": "stream",
     "text": [
      "+--------------------+-----+\n",
      "|         business_id|stars|\n",
      "+--------------------+-----+\n",
      "|-MhfebM0QIsKt87iD...|  2.0|\n",
      "|lbrU8StCq3yDfr-QM...|  1.0|\n",
      "|HQl28KMwrEKHqhFrr...|  5.0|\n",
      "|5JxlZaqCnk1MnbgRi...|  1.0|\n",
      "|IS4cv902ykd8wj1TR...|  4.0|\n",
      "+--------------------+-----+\n",
      "only showing top 5 rows"
     ]
    }
   ],
   "source": [
    "review.createOrReplaceTempView('YelpReview')\n",
    "review_sqldf = spark.sql(\n",
    "'''\n",
    "SELECT business_id, stars, user_id\n",
    "FROM YelpReview\n",
    "'''\n",
    ")\n",
    "review_sqldf.select('business_id','stars').show(5)"
   ]
  },
  {
   "cell_type": "markdown",
   "metadata": {},
   "source": [
    "Now, let's aggregate along the `stars` column to get a resultant dataframe that displays _average stars_ per business as accumulated by users who **took the time to submit a written review**."
   ]
  },
  {
   "cell_type": "code",
   "execution_count": 17,
   "metadata": {},
   "outputs": [
    {
     "data": {
      "application/vnd.jupyter.widget-view+json": {
       "model_id": "44a3b53977d940a284187c18c3a73738",
       "version_major": 2,
       "version_minor": 0
      },
      "text/plain": [
       "VBox()"
      ]
     },
     "metadata": {},
     "output_type": "display_data"
    },
    {
     "data": {
      "application/vnd.jupyter.widget-view+json": {
       "model_id": "",
       "version_major": 2,
       "version_minor": 0
      },
      "text/plain": [
       "FloatProgress(value=0.0, bar_style='info', description='Progress:', layout=Layout(height='25px', width='50%'),…"
      ]
     },
     "metadata": {},
     "output_type": "display_data"
    },
    {
     "name": "stdout",
     "output_type": "stream",
     "text": [
      "+--------------------+------------------+\n",
      "|         business_id|        avg(stars)|\n",
      "+--------------------+------------------+\n",
      "|ATeOjZzE3VOI-RW7F...| 3.433734939759036|\n",
      "|RMjCnixEY5i12Ciqn...|3.5316455696202533|\n",
      "|vbUABNAQI2iwN7v0x...|2.4545454545454546|\n",
      "|VHsNB3pdGVcRgs6C3...| 3.411764705882353|\n",
      "|r-W1HPIZ3V6S2DaXh...| 4.852459016393443|\n",
      "+--------------------+------------------+\n",
      "only showing top 5 rows"
     ]
    }
   ],
   "source": [
    "review_avg=review_sqldf.groupby('business_id').agg({'stars':'mean'})\n",
    "review_avg.show(5)"
   ]
  },
  {
   "cell_type": "markdown",
   "metadata": {},
   "source": [
    "Now the fun part - let's join our two dataframes (reviews and business data) by `business_id`. "
   ]
  },
  {
   "cell_type": "code",
   "execution_count": 18,
   "metadata": {},
   "outputs": [
    {
     "data": {
      "application/vnd.jupyter.widget-view+json": {
       "model_id": "d0d31d30b6354ebdb27d71eac726652a",
       "version_major": 2,
       "version_minor": 0
      },
      "text/plain": [
       "VBox()"
      ]
     },
     "metadata": {},
     "output_type": "display_data"
    },
    {
     "data": {
      "application/vnd.jupyter.widget-view+json": {
       "model_id": "",
       "version_major": 2,
       "version_minor": 0
      },
      "text/plain": [
       "FloatProgress(value=0.0, bar_style='info', description='Progress:', layout=Layout(height='25px', width='50%'),…"
      ]
     },
     "metadata": {},
     "output_type": "display_data"
    }
   ],
   "source": [
    "business_rating =review_avg.join(business, on=\"business_id\", how=\"inner\")"
   ]
  },
  {
   "cell_type": "markdown",
   "metadata": {},
   "source": [
    "Let's see a few of these:"
   ]
  },
  {
   "cell_type": "code",
   "execution_count": 19,
   "metadata": {},
   "outputs": [
    {
     "data": {
      "application/vnd.jupyter.widget-view+json": {
       "model_id": "ab5326bbfbd74945b2d543506eb97cbd",
       "version_major": 2,
       "version_minor": 0
      },
      "text/plain": [
       "VBox()"
      ]
     },
     "metadata": {},
     "output_type": "display_data"
    },
    {
     "data": {
      "application/vnd.jupyter.widget-view+json": {
       "model_id": "",
       "version_major": 2,
       "version_minor": 0
      },
      "text/plain": [
       "FloatProgress(value=0.0, bar_style='info', description='Progress:', layout=Layout(height='25px', width='50%'),…"
      ]
     },
     "metadata": {},
     "output_type": "display_data"
    },
    {
     "name": "stdout",
     "output_type": "stream",
     "text": [
      "+------------------+-----+--------------------+-----------+-----+\n",
      "|        avg(stars)|stars|                name|       city|state|\n",
      "+------------------+-----+--------------------+-----------+-----+\n",
      "|  4.11784140969163|  4.0|Delmonico Steakhouse|  Las Vegas|   NV|\n",
      "|2.3333333333333335|  2.5|Neo-Paws Internat...|    Toronto|   ON|\n",
      "|             4.375|  4.5| McFarling Law Group|  Las Vegas|   NV|\n",
      "|3.3333333333333335|  3.5|Volvo of Mississauga|Mississauga|   ON|\n",
      "|               5.0|  5.0|Andre Agassi Coll...|  Las Vegas|   NV|\n",
      "+------------------+-----+--------------------+-----------+-----+\n",
      "only showing top 5 rows"
     ]
    }
   ],
   "source": [
    "business_rating.select('avg(stars)', 'stars', 'name', 'city', 'state').show(5)"
   ]
  },
  {
   "cell_type": "markdown",
   "metadata": {},
   "source": [
    "Compute a new dataframe that calculates what we will call the _skew_ (for lack of a better word) between the avg stars accumulated from written reviews and the _actual_ star rating of a business (ie: the average of stars given by reviewers who wrote an actual review **and** reviewers who just provided a star rating).\n",
    "\n",
    "The formula you can use is something like:\n",
    "\n",
    "```\n",
    "(row['avg(stars)'] - row['stars']) / row['stars']\n",
    "```\n",
    "\n",
    "If the **skew** is negative, we can interpret that to be: reviewers who left a written response were more dissatisfied than normal. If **skew** is positive, we can interpret that to be: reviewers who left a written response were more satisfied than normal."
   ]
  },
  {
   "cell_type": "code",
   "execution_count": 20,
   "metadata": {},
   "outputs": [
    {
     "data": {
      "application/vnd.jupyter.widget-view+json": {
       "model_id": "9b47e0abe7e04cd39938ee680f952c31",
       "version_major": 2,
       "version_minor": 0
      },
      "text/plain": [
       "VBox()"
      ]
     },
     "metadata": {},
     "output_type": "display_data"
    },
    {
     "data": {
      "application/vnd.jupyter.widget-view+json": {
       "model_id": "",
       "version_major": 2,
       "version_minor": 0
      },
      "text/plain": [
       "FloatProgress(value=0.0, bar_style='info', description='Progress:', layout=Layout(height='25px', width='50%'),…"
      ]
     },
     "metadata": {},
     "output_type": "display_data"
    }
   ],
   "source": [
    "skewDF = business_rating.withColumn('skew', (business_rating['avg(stars)'] - business_rating['stars']) / business_rating['stars'])"
   ]
  },
  {
   "cell_type": "code",
   "execution_count": 21,
   "metadata": {},
   "outputs": [
    {
     "data": {
      "application/vnd.jupyter.widget-view+json": {
       "model_id": "d0ede5ff359c4f5da2e56ebd8fbc84fd",
       "version_major": 2,
       "version_minor": 0
      },
      "text/plain": [
       "VBox()"
      ]
     },
     "metadata": {},
     "output_type": "display_data"
    },
    {
     "data": {
      "application/vnd.jupyter.widget-view+json": {
       "model_id": "",
       "version_major": 2,
       "version_minor": 0
      },
      "text/plain": [
       "FloatProgress(value=0.0, bar_style='info', description='Progress:', layout=Layout(height='25px', width='50%'),…"
      ]
     },
     "metadata": {},
     "output_type": "display_data"
    },
    {
     "name": "stdout",
     "output_type": "stream",
     "text": [
      "+-------+--------------------+\n",
      "|summary|                skew|\n",
      "+-------+--------------------+\n",
      "|  count|              209393|\n",
      "|   mean|0.001235344665268...|\n",
      "| stddev| 0.05523522538149904|\n",
      "|    min|-0.45454545454545453|\n",
      "|    max|  1.3333333333333335|\n",
      "+-------+--------------------+"
     ]
    }
   ],
   "source": [
    "skewDF.select('skew').describe().show()"
   ]
  },
  {
   "cell_type": "code",
   "execution_count": 22,
   "metadata": {},
   "outputs": [
    {
     "data": {
      "application/vnd.jupyter.widget-view+json": {
       "model_id": "cd115b7a72a74368b356d317d7f1b9a1",
       "version_major": 2,
       "version_minor": 0
      },
      "text/plain": [
       "VBox()"
      ]
     },
     "metadata": {},
     "output_type": "display_data"
    },
    {
     "data": {
      "application/vnd.jupyter.widget-view+json": {
       "model_id": "",
       "version_major": 2,
       "version_minor": 0
      },
      "text/plain": [
       "FloatProgress(value=0.0, bar_style='info', description='Progress:', layout=Layout(height='25px', width='50%'),…"
      ]
     },
     "metadata": {},
     "output_type": "display_data"
    }
   ],
   "source": [
    "skewDFPandas = skewDF.select('skew').toPandas()"
   ]
  },
  {
   "cell_type": "markdown",
   "metadata": {},
   "source": [
    "And finally, graph it!"
   ]
  },
  {
   "cell_type": "code",
   "execution_count": 23,
   "metadata": {},
   "outputs": [
    {
     "data": {
      "application/vnd.jupyter.widget-view+json": {
       "model_id": "dcee293c87d447448adde265ec4ae376",
       "version_major": 2,
       "version_minor": 0
      },
      "text/plain": [
       "VBox()"
      ]
     },
     "metadata": {},
     "output_type": "display_data"
    },
    {
     "data": {
      "application/vnd.jupyter.widget-view+json": {
       "model_id": "",
       "version_major": 2,
       "version_minor": 0
      },
      "text/plain": [
       "FloatProgress(value=0.0, bar_style='info', description='Progress:', layout=Layout(height='25px', width='50%'),…"
      ]
     },
     "metadata": {},
     "output_type": "display_data"
    },
    {
     "data": {
      "image/png": "[encoded data removed]",
      "text/plain": [
       "<IPython.core.display.Image object>"
      ]
     },
     "metadata": {},
     "output_type": "display_data"
    }
   ],
   "source": [
    "plt.clf()\n",
    "plt.figure()\n",
    "ax = sns.distplot(skewDFPandas,color=\"lightskyblue\")\n",
    "sns.set_style(\"white\")\n",
    "ax.set_title('Yelp Review Skewness Analysis')\n",
    "plt.tight_layout()\n",
    "plt.box(False)\n",
    "plt.xlim(-0.5, 1)\n",
    "plt.ylim(0, 10)\n",
    "\n",
    "%matplot plt"
   ]
  },
  {
   "cell_type": "markdown",
   "metadata": {},
   "source": [
    "## So, do Yelp (written) Reviews skew negative? Does this analysis actually prove anything? Expound on implications / interpretations of this graph. \n",
    "\n",
    "\n",
    "Answer: Most of the pints distributed close to 0 and also We can observer a slightly negative skewness.So we can say,Yelp reviews are slightly negative. But, we also need to look at other variables to support the negative skewness, in order to support this we need to plot review amount vs review stars.\n",
    "\n",
    "Also we can observe normal distribution pattren here and by this we can conclude most of the datapoints disributed within  1 or 2 standard deviation from the mean. We can also observe there are no outliers in the above graph. "
   ]
  },
  {
   "cell_type": "code",
   "execution_count": 24,
   "metadata": {},
   "outputs": [
    {
     "data": {
      "application/vnd.jupyter.widget-view+json": {
       "model_id": "0334ff06d07e434880801576f021e5aa",
       "version_major": 2,
       "version_minor": 0
      },
      "text/plain": [
       "VBox()"
      ]
     },
     "metadata": {},
     "output_type": "display_data"
    },
    {
     "data": {
      "application/vnd.jupyter.widget-view+json": {
       "model_id": "",
       "version_major": 2,
       "version_minor": 0
      },
      "text/plain": [
       "FloatProgress(value=0.0, bar_style='info', description='Progress:', layout=Layout(height='25px', width='50%'),…"
      ]
     },
     "metadata": {},
     "output_type": "display_data"
    },
    {
     "name": "stdout",
     "output_type": "stream",
     "text": [
      "+-------+--------------------+------------------+-------------------+------------------+--------------------+------------------+-------------------------------------+------------------+--------------------+\n",
      "|summary|         business_id|              cool|               date|             funny|           review_id|             stars|                                 text|            useful|             user_id|\n",
      "+-------+--------------------+------------------+-------------------+------------------+--------------------+------------------+-------------------------------------+------------------+--------------------+\n",
      "|  count|             8021122|           8021122|            8021122|           8021122|             8021122|           8021122|                              8021122|           8021122|             8021122|\n",
      "|   mean|                null|0.5745620126461111|               null|0.4596423044057926|                null|3.7035746370644906|                                 null|1.3228823847835751|                null|\n",
      "| stddev|                null| 2.476906497977331|               null|2.1881433740859255|                null|1.4904860263514574|                                 null|3.5508306547705155|                null|\n",
      "|    min|--1UhMGODdWsrMast...|                -1|2004-10-12 10:13:32|                 0|----X0BIDP9tA49U3...|               1.0|                                    !|                -1|---1lKK3aKOuomHnw...|\n",
      "|    max|zzzaIBwimxVej4tY6...|               502|2019-12-13 15:51:19|               976|zzzuOUz7Owtf4EEHv...|               5.0|５年前から二度目の滞在。フロント対...|              1122|zzzv9W8ShM4TkXZGM...|\n",
      "+-------+--------------------+------------------+-------------------+------------------+--------------------+------------------+-------------------------------------+------------------+--------------------+"
     ]
    }
   ],
   "source": [
    "review.describe().show()"
   ]
  },
  {
   "cell_type": "code",
   "execution_count": 25,
   "metadata": {},
   "outputs": [
    {
     "data": {
      "application/vnd.jupyter.widget-view+json": {
       "model_id": "b1305f3eb29c41539fd581ca3d9126c8",
       "version_major": 2,
       "version_minor": 0
      },
      "text/plain": [
       "VBox()"
      ]
     },
     "metadata": {},
     "output_type": "display_data"
    },
    {
     "data": {
      "application/vnd.jupyter.widget-view+json": {
       "model_id": "",
       "version_major": 2,
       "version_minor": 0
      },
      "text/plain": [
       "FloatProgress(value=0.0, bar_style='info', description='Progress:', layout=Layout(height='25px', width='50%'),…"
      ]
     },
     "metadata": {},
     "output_type": "display_data"
    },
    {
     "name": "stdout",
     "output_type": "stream",
     "text": [
      "+--------------------+-------+\n",
      "|         business_id|reviews|\n",
      "+--------------------+-------+\n",
      "|4JNXUYY8wbaaDmk3B...|   4501|\n",
      "|RESDUcs7fIiihp38-...|   4247|\n",
      "|faPVqws-x-5k2CQKD...|   3415|\n",
      "|vHz2RLtfUMVRPFmd7...|   3290|\n",
      "|JDZ6_yycNQFTpUZzL...|   3158|\n",
      "|f4x1YBxkLrZg652xt...|   2848|\n",
      "|QXV3L_QFGj8r6nWX2...|   2827|\n",
      "|3kdSl5mo9dWC4clrQ...|   2758|\n",
      "|DkYS3arLOhA8si5uU...|   2738|\n",
      "|mDR12Hafvr84ctpsV...|   2661|\n",
      "+--------------------+-------+\n",
      "only showing top 10 rows"
     ]
    }
   ],
   "source": [
    "##Top Rated Business\n",
    "\n",
    "top_rated = spark.sql(\n",
    "'''\n",
    "SELECT business_id, count(*) as reviews\n",
    "FROM YelpReview\n",
    "WHERE stars=5\n",
    "GROUP by business_id\n",
    "ORDER by 2 desc\n",
    "\n",
    "'''\n",
    ")\n",
    "top_rated.show(10)"
   ]
  },
  {
   "cell_type": "code",
   "execution_count": 26,
   "metadata": {
    "scrolled": true
   },
   "outputs": [
    {
     "data": {
      "application/vnd.jupyter.widget-view+json": {
       "model_id": "32bb89b820ee4444b0f2adca50ee7b16",
       "version_major": 2,
       "version_minor": 0
      },
      "text/plain": [
       "VBox()"
      ]
     },
     "metadata": {},
     "output_type": "display_data"
    },
    {
     "data": {
      "application/vnd.jupyter.widget-view+json": {
       "model_id": "",
       "version_major": 2,
       "version_minor": 0
      },
      "text/plain": [
       "FloatProgress(value=0.0, bar_style='info', description='Progress:', layout=Layout(height='25px', width='50%'),…"
      ]
     },
     "metadata": {},
     "output_type": "display_data"
    },
    {
     "name": "stdout",
     "output_type": "stream",
     "text": [
      "+--------------------+-------+\n",
      "|         business_id|reviews|\n",
      "+--------------------+-------+\n",
      "|u_vPjx925UPEG9DFO...|   1492|\n",
      "|AV6weBrZFFBfRGCbc...|   1391|\n",
      "|6Q7-wkCPc1KF75jZL...|   1360|\n",
      "|El4FC8jcawUVgw_0E...|   1260|\n",
      "|e0CTLPxTnFEQSqQ1F...|   1131|\n",
      "|yhgUyctWczUN13Min...|   1084|\n",
      "|dWFUKB_HPBIE87AFB...|   1069|\n",
      "|RESDUcs7fIiihp38-...|   1056|\n",
      "|o7AiTlyWUrBSzdz6o...|   1021|\n",
      "|xtYiHTmunjfCN2sUa...|    991|\n",
      "+--------------------+-------+\n",
      "only showing top 10 rows"
     ]
    }
   ],
   "source": [
    "low_rated=  spark.sql(\n",
    "'''\n",
    "SELECT business_id, count(*) as reviews\n",
    "FROM YelpReview\n",
    "WHERE stars=1\n",
    "GROUP by business_id\n",
    "ORDER by 2 desc\n",
    "\n",
    "'''\n",
    ")\n",
    "low_rated.show(10)"
   ]
  },
  {
   "cell_type": "markdown",
   "metadata": {},
   "source": [
    "#### It shows high rating firm is associated with high reveiew count. This does not support our conclusion: Yelp reviews are slightly  negative is still true."
   ]
  },
  {
   "cell_type": "code",
   "execution_count": 47,
   "metadata": {},
   "outputs": [
    {
     "data": {
      "application/vnd.jupyter.widget-view+json": {
       "model_id": "d5af540ddfcf40fab1dd08374585cb04",
       "version_major": 2,
       "version_minor": 0
      },
      "text/plain": [
       "VBox()"
      ]
     },
     "metadata": {},
     "output_type": "display_data"
    },
    {
     "data": {
      "application/vnd.jupyter.widget-view+json": {
       "model_id": "",
       "version_major": 2,
       "version_minor": 0
      },
      "text/plain": [
       "FloatProgress(value=0.0, bar_style='info', description='Progress:', layout=Layout(height='25px', width='50%'),…"
      ]
     },
     "metadata": {},
     "output_type": "display_data"
    },
    {
     "name": "stdout",
     "output_type": "stream",
     "text": [
      "+-----+-------+\n",
      "|stars|reviews|\n",
      "+-----+-------+\n",
      "|  1.0|1283897|\n",
      "|  4.0|1673404|\n",
      "|  3.0| 842289|\n",
      "|  2.0| 635072|\n",
      "|  5.0|3586460|\n",
      "+-----+-------+"
     ]
    }
   ],
   "source": [
    "stars_reviews = spark.sql(\n",
    "'''\n",
    "SELECT stars, count(*) as reviews\n",
    "FROM YelpReview\n",
    "GROUP by stars\n",
    "\n",
    "'''\n",
    ")\n",
    "stars_reviews.show(10)"
   ]
  },
  {
   "cell_type": "markdown",
   "metadata": {},
   "source": [
    "#### Let us see how stars and reviews variable co-related by printing co-relation marix"
   ]
  },
  {
   "cell_type": "code",
   "execution_count": 48,
   "metadata": {},
   "outputs": [
    {
     "data": {
      "application/vnd.jupyter.widget-view+json": {
       "model_id": "56b8f835f2ec45ae83c5fc677fe79631",
       "version_major": 2,
       "version_minor": 0
      },
      "text/plain": [
       "VBox()"
      ]
     },
     "metadata": {},
     "output_type": "display_data"
    },
    {
     "data": {
      "application/vnd.jupyter.widget-view+json": {
       "model_id": "",
       "version_major": 2,
       "version_minor": 0
      },
      "text/plain": [
       "FloatProgress(value=0.0, bar_style='info', description='Progress:', layout=Layout(height='25px', width='50%'),…"
      ]
     },
     "metadata": {},
     "output_type": "display_data"
    },
    {
     "name": "stdout",
     "output_type": "stream",
     "text": [
      "            stars   reviews\n",
      "stars    1.000000  0.757088\n",
      "reviews  0.757088  1.000000"
     ]
    }
   ],
   "source": [
    "corrMatrix = stars_reviews.toPandas().corr()\n",
    "print(corrMatrix)"
   ]
  },
  {
   "cell_type": "code",
   "execution_count": 49,
   "metadata": {},
   "outputs": [
    {
     "data": {
      "application/vnd.jupyter.widget-view+json": {
       "model_id": "185b608aca7e429bb43db544cf6ebd01",
       "version_major": 2,
       "version_minor": 0
      },
      "text/plain": [
       "VBox()"
      ]
     },
     "metadata": {},
     "output_type": "display_data"
    },
    {
     "data": {
      "application/vnd.jupyter.widget-view+json": {
       "model_id": "",
       "version_major": 2,
       "version_minor": 0
      },
      "text/plain": [
       "FloatProgress(value=0.0, bar_style='info', description='Progress:', layout=Layout(height='25px', width='50%'),…"
      ]
     },
     "metadata": {},
     "output_type": "display_data"
    },
    {
     "data": {
      "image/png": "[encoded data removed]",
      "text/plain": [
       "<IPython.core.display.Image object>"
      ]
     },
     "metadata": {},
     "output_type": "display_data"
    }
   ],
   "source": [
    "plt.figure()\n",
    "sns.heatmap(corrMatrix,  annot=True)\n",
    "plt.title('Yelp Stars and Reviews')\n",
    "%matplot plt"
   ]
  },
  {
   "cell_type": "markdown",
   "metadata": {},
   "source": [
    "#### Conclusion:\n",
    "We see high correlation beween number of reviews and number of stars. People are only bothering to rate good firms that makes it interesting to use Yelp only to determine if the firm is reviewd at all. If the firm is not rated the unwritten reviews are bad. This does not support our conclusion that Yelp reviews are slightly negative"
   ]
  },
  {
   "cell_type": "markdown",
   "metadata": {},
   "source": [
    "#### Correlation Business and rating"
   ]
  },
  {
   "cell_type": "code",
   "execution_count": 54,
   "metadata": {},
   "outputs": [
    {
     "data": {
      "application/vnd.jupyter.widget-view+json": {
       "model_id": "ce614389839f44ce84da388d3e123009",
       "version_major": 2,
       "version_minor": 0
      },
      "text/plain": [
       "VBox()"
      ]
     },
     "metadata": {},
     "output_type": "display_data"
    },
    {
     "data": {
      "application/vnd.jupyter.widget-view+json": {
       "model_id": "",
       "version_major": 2,
       "version_minor": 0
      },
      "text/plain": [
       "FloatProgress(value=0.0, bar_style='info', description='Progress:', layout=Layout(height='25px', width='50%'),…"
      ]
     },
     "metadata": {},
     "output_type": "display_data"
    },
    {
     "name": "stdout",
     "output_type": "stream",
     "text": [
      "+--------------------+------+\n",
      "|         business_id|rating|\n",
      "+--------------------+------+\n",
      "|oPJd4wYJ5xuDB5P0h...|   5.0|\n",
      "|VJnI8FZ0ljhlCTP6x...|   5.0|\n",
      "|i42M5aLwhsCSRD0eW...|   5.0|\n",
      "|I39cfAld_XkZ45EmS...|   5.0|\n",
      "|LrV3n7iIss51VCWgN...|   5.0|\n",
      "+--------------------+------+\n",
      "only showing top 5 rows"
     ]
    }
   ],
   "source": [
    "business_rating = spark.sql(\n",
    "'''\n",
    "SELECT business_id, avg(stars) as rating\n",
    "FROM YelpReview\n",
    "GROUP by business_id\n",
    "ORDER by 2 desc\n",
    "\n",
    "'''\n",
    ")\n",
    "business_rating.show(5)\n"
   ]
  },
  {
   "cell_type": "code",
   "execution_count": 55,
   "metadata": {},
   "outputs": [
    {
     "data": {
      "application/vnd.jupyter.widget-view+json": {
       "model_id": "78f85f20a6254e72be79d4858d6dff8e",
       "version_major": 2,
       "version_minor": 0
      },
      "text/plain": [
       "VBox()"
      ]
     },
     "metadata": {},
     "output_type": "display_data"
    },
    {
     "data": {
      "application/vnd.jupyter.widget-view+json": {
       "model_id": "",
       "version_major": 2,
       "version_minor": 0
      },
      "text/plain": [
       "FloatProgress(value=0.0, bar_style='info', description='Progress:', layout=Layout(height='25px', width='50%'),…"
      ]
     },
     "metadata": {},
     "output_type": "display_data"
    },
    {
     "data": {
      "image/png": "[encoded data removed]",
      "text/plain": [
       "<IPython.core.display.Image object>"
      ]
     },
     "metadata": {},
     "output_type": "display_data"
    }
   ],
   "source": [
    "rating_pdf = business_rating.toPandas()\n",
    "plt.figure()\n",
    "fig, ax = plt.subplots()\n",
    "rating_pdf['rating'].plot.hist(density=True, ax=ax)\n",
    "ax.set_ylabel('Probability')\n",
    "plt.tight_layout()\n",
    "plt.xlabel('rating')\n",
    "plt.box(False)\n",
    "%matplot plt"
   ]
  },
  {
   "cell_type": "markdown",
   "metadata": {},
   "source": [
    "### By looking at above Bar graph we can say : Yelp reviews are not completely negative, which gives strong support to our statement."
   ]
  },
  {
   "cell_type": "markdown",
   "metadata": {},
   "source": [
    "# Should the Elite be Trusted? (Or, some other analysis of your choice)"
   ]
  },
  {
   "cell_type": "markdown",
   "metadata": {},
   "source": [
    "For the final portion - you have a choice:\n",
    "\n",
    "* Try and analyze some interesting dimension to this data. The **ONLY** requirement is that you must use the **Users** dataset and join on either the **business* or **reviews** dataset\n",
    "* Or, you may try and answer the question posed: how accurate or close are the ratings of an \"elite\" user (check Users table schema) vs the actual business rating.\n",
    "\n",
    "Feel free to use any and all methodologies at your disposal - only requirement is you must render one visualization in your analysis"
   ]
  },
  {
   "cell_type": "code",
   "execution_count": 56,
   "metadata": {},
   "outputs": [
    {
     "data": {
      "application/vnd.jupyter.widget-view+json": {
       "model_id": "51abcfd2367a4f9db11ea0955640a297",
       "version_major": 2,
       "version_minor": 0
      },
      "text/plain": [
       "VBox()"
      ]
     },
     "metadata": {},
     "output_type": "display_data"
    },
    {
     "data": {
      "application/vnd.jupyter.widget-view+json": {
       "model_id": "",
       "version_major": 2,
       "version_minor": 0
      },
      "text/plain": [
       "FloatProgress(value=0.0, bar_style='info', description='Progress:', layout=Layout(height='25px', width='50%'),…"
      ]
     },
     "metadata": {},
     "output_type": "display_data"
    }
   ],
   "source": [
    "user=spark.read.json('s3://sta9760f2020-project2-review-dataset/yelp_academic_dataset_user.json')"
   ]
  },
  {
   "cell_type": "code",
   "execution_count": 57,
   "metadata": {},
   "outputs": [
    {
     "data": {
      "application/vnd.jupyter.widget-view+json": {
       "model_id": "373850fcf4194e5a8292db0b6fab48f2",
       "version_major": 2,
       "version_minor": 0
      },
      "text/plain": [
       "VBox()"
      ]
     },
     "metadata": {},
     "output_type": "display_data"
    },
    {
     "data": {
      "application/vnd.jupyter.widget-view+json": {
       "model_id": "",
       "version_major": 2,
       "version_minor": 0
      },
      "text/plain": [
       "FloatProgress(value=0.0, bar_style='info', description='Progress:', layout=Layout(height='25px', width='50%'),…"
      ]
     },
     "metadata": {},
     "output_type": "display_data"
    },
    {
     "name": "stdout",
     "output_type": "stream",
     "text": [
      "Total Columns: 22\n",
      "Total Rows: 1,968,703\n",
      "root\n",
      " |-- average_stars: double (nullable = true)\n",
      " |-- compliment_cool: long (nullable = true)\n",
      " |-- compliment_cute: long (nullable = true)\n",
      " |-- compliment_funny: long (nullable = true)\n",
      " |-- compliment_hot: long (nullable = true)\n",
      " |-- compliment_list: long (nullable = true)\n",
      " |-- compliment_more: long (nullable = true)\n",
      " |-- compliment_note: long (nullable = true)\n",
      " |-- compliment_photos: long (nullable = true)\n",
      " |-- compliment_plain: long (nullable = true)\n",
      " |-- compliment_profile: long (nullable = true)\n",
      " |-- compliment_writer: long (nullable = true)\n",
      " |-- cool: long (nullable = true)\n",
      " |-- elite: string (nullable = true)\n",
      " |-- fans: long (nullable = true)\n",
      " |-- friends: string (nullable = true)\n",
      " |-- funny: long (nullable = true)\n",
      " |-- name: string (nullable = true)\n",
      " |-- review_count: long (nullable = true)\n",
      " |-- useful: long (nullable = true)\n",
      " |-- user_id: string (nullable = true)\n",
      " |-- yelping_since: string (nullable = true)"
     ]
    }
   ],
   "source": [
    "print(f'Total Columns: {len(user.dtypes)}')\n",
    "print(f'Total Rows: {user.count():,}')\n",
    "user.printSchema()"
   ]
  },
  {
   "cell_type": "code",
   "execution_count": 70,
   "metadata": {},
   "outputs": [
    {
     "data": {
      "application/vnd.jupyter.widget-view+json": {
       "model_id": "2612ac0821514b07a4c0f6d7b36585a3",
       "version_major": 2,
       "version_minor": 0
      },
      "text/plain": [
       "VBox()"
      ]
     },
     "metadata": {},
     "output_type": "display_data"
    },
    {
     "data": {
      "application/vnd.jupyter.widget-view+json": {
       "model_id": "",
       "version_major": 2,
       "version_minor": 0
      },
      "text/plain": [
       "FloatProgress(value=0.0, bar_style='info', description='Progress:', layout=Layout(height='25px', width='50%'),…"
      ]
     },
     "metadata": {},
     "output_type": "display_data"
    },
    {
     "name": "stdout",
     "output_type": "stream",
     "text": [
      "+--------------------+----------------+-----+--------------------+\n",
      "|         business_id|      avg(stars)|stars|             user_id|\n",
      "+--------------------+----------------+-----+--------------------+\n",
      "|--9e1ONYQuAa-CB_R...|4.11784140969163|  5.0|mBBGHMLDDmtptNIu0...|\n",
      "|--9e1ONYQuAa-CB_R...|4.11784140969163|  4.0|5WBIwR92ZNVmsG7bR...|\n",
      "|--9e1ONYQuAa-CB_R...|4.11784140969163|  5.0|3HG4RGeej4dZiMo5s...|\n",
      "|--9e1ONYQuAa-CB_R...|4.11784140969163|  3.0|bWJWcQyDKtFSvsTW2...|\n",
      "|--9e1ONYQuAa-CB_R...|4.11784140969163|  5.0|HaqStKX7oqpx5ymDH...|\n",
      "+--------------------+----------------+-----+--------------------+\n",
      "only showing top 5 rows"
     ]
    }
   ],
   "source": [
    "review_compare=review_avg.join(review_sqldf, on=\"business_id\", how=\"inner\")\n",
    "review_compare.show(5)"
   ]
  },
  {
   "cell_type": "code",
   "execution_count": 71,
   "metadata": {},
   "outputs": [
    {
     "data": {
      "application/vnd.jupyter.widget-view+json": {
       "model_id": "3e046cccd5f448c5995b5c4f50670600",
       "version_major": 2,
       "version_minor": 0
      },
      "text/plain": [
       "VBox()"
      ]
     },
     "metadata": {},
     "output_type": "display_data"
    },
    {
     "data": {
      "application/vnd.jupyter.widget-view+json": {
       "model_id": "",
       "version_major": 2,
       "version_minor": 0
      },
      "text/plain": [
       "FloatProgress(value=0.0, bar_style='info', description='Progress:', layout=Layout(height='25px', width='50%'),…"
      ]
     },
     "metadata": {},
     "output_type": "display_data"
    },
    {
     "name": "stdout",
     "output_type": "stream",
     "text": [
      "+------------------+-----+--------------------+------------+\n",
      "|        avg(stars)|stars|               elite|review_count|\n",
      "+------------------+-----+--------------------+------------+\n",
      "|            4.0125|  4.0|                    |          55|\n",
      "| 2.310344827586207|  2.0|                    |           3|\n",
      "|2.9904761904761905|  4.0|2011,2012,2013,20...|         163|\n",
      "|2.8392857142857144|  1.0|                    |           7|\n",
      "|3.3636363636363638|  5.0|                    |           7|\n",
      "+------------------+-----+--------------------+------------+\n",
      "only showing top 5 rows"
     ]
    }
   ],
   "source": [
    "user_review_compare=review_compare.join(user, on=\"user_id\", how=\"inner\")\n",
    "user_review_compare=user_review_compare.select('avg(stars)','stars', 'elite','review_count')\n",
    "user_review_compare.show(5)"
   ]
  },
  {
   "cell_type": "code",
   "execution_count": 72,
   "metadata": {},
   "outputs": [
    {
     "data": {
      "application/vnd.jupyter.widget-view+json": {
       "model_id": "a57d4a83c1d8422a9e2cfdabf34183f1",
       "version_major": 2,
       "version_minor": 0
      },
      "text/plain": [
       "VBox()"
      ]
     },
     "metadata": {},
     "output_type": "display_data"
    },
    {
     "data": {
      "application/vnd.jupyter.widget-view+json": {
       "model_id": "",
       "version_major": 2,
       "version_minor": 0
      },
      "text/plain": [
       "FloatProgress(value=0.0, bar_style='info', description='Progress:', layout=Layout(height='25px', width='50%'),…"
      ]
     },
     "metadata": {},
     "output_type": "display_data"
    },
    {
     "name": "stdout",
     "output_type": "stream",
     "text": [
      "+------------------+-----+--------------------+------------+-----+\n",
      "|        avg(stars)|stars|               elite|review_count| skew|\n",
      "+------------------+-----+--------------------+------------+-----+\n",
      "|            4.0125|  4.0|                    |          55|  0.0|\n",
      "| 2.310344827586207|  2.0|                    |           3| 0.16|\n",
      "|2.9904761904761905|  4.0|2011,2012,2013,20...|         163|-0.25|\n",
      "|3.5925925925925926|  1.0|                    |           7| 2.59|\n",
      "|2.8392857142857144|  1.0|                    |           7| 1.84|\n",
      "+------------------+-----+--------------------+------------+-----+\n",
      "only showing top 5 rows"
     ]
    }
   ],
   "source": [
    "review_skew = user_review_compare.withColumn(\"skew\", F.round((F.col('avg(stars)')-F.col('stars'))/F.col('stars'), 2))\n",
    "review_skew.show(5)"
   ]
  },
  {
   "cell_type": "code",
   "execution_count": 73,
   "metadata": {},
   "outputs": [
    {
     "data": {
      "application/vnd.jupyter.widget-view+json": {
       "model_id": "7dc385d83b1c494d98e9fd26c3fe12a8",
       "version_major": 2,
       "version_minor": 0
      },
      "text/plain": [
       "VBox()"
      ]
     },
     "metadata": {},
     "output_type": "display_data"
    },
    {
     "data": {
      "application/vnd.jupyter.widget-view+json": {
       "model_id": "",
       "version_major": 2,
       "version_minor": 0
      },
      "text/plain": [
       "FloatProgress(value=0.0, bar_style='info', description='Progress:', layout=Layout(height='25px', width='50%'),…"
      ]
     },
     "metadata": {},
     "output_type": "display_data"
    },
    {
     "data": {
      "image/png": "[encoded data removed]",
      "text/plain": [
       "<IPython.core.display.Image object>"
      ]
     },
     "metadata": {},
     "output_type": "display_data"
    }
   ],
   "source": [
    "elite_review_skew=review_skew.filter(F.col('elite')!='')\n",
    "result_pdf = elite_review_skew.toPandas()\n",
    "plt.figure()\n",
    "sns.distplot(result_pdf['skew'])    \n",
    "plt.title('Yelp Elite User Review')\n",
    "plt.xlabel('Rating Skew')\n",
    "plt.ylabel('Probability')\n",
    "plt.tight_layout()\n",
    "plt.box(False)\n",
    "%matplot plt"
   ]
  },
  {
   "cell_type": "code",
   "execution_count": 74,
   "metadata": {
    "scrolled": true
   },
   "outputs": [
    {
     "data": {
      "application/vnd.jupyter.widget-view+json": {
       "model_id": "afc48c7099264608a95294294bab11f1",
       "version_major": 2,
       "version_minor": 0
      },
      "text/plain": [
       "VBox()"
      ]
     },
     "metadata": {},
     "output_type": "display_data"
    },
    {
     "data": {
      "application/vnd.jupyter.widget-view+json": {
       "model_id": "",
       "version_major": 2,
       "version_minor": 0
      },
      "text/plain": [
       "FloatProgress(value=0.0, bar_style='info', description='Progress:', layout=Layout(height='25px', width='50%'),…"
      ]
     },
     "metadata": {},
     "output_type": "display_data"
    },
    {
     "data": {
      "image/png": "[encoded data removed]",
      "text/plain": [
       "<IPython.core.display.Image object>"
      ]
     },
     "metadata": {},
     "output_type": "display_data"
    }
   ],
   "source": [
    "non_elite_review_skew=review_skew.filter(F.col('elite')=='')\n",
    "result_pdf = non_elite_review_skew.toPandas()\n",
    "plt.figure()\n",
    "sns.distplot(result_pdf['skew'])    \n",
    "plt.title('Yelp Elite User Review')\n",
    "plt.xlabel('Rating Skew')\n",
    "plt.ylabel('Probability')\n",
    "plt.tight_layout()\n",
    "plt.box(False)\n",
    "%matplot plt"
   ]
  },
  {
   "cell_type": "markdown",
   "metadata": {},
   "source": [
    "#### Conclusion: It seems that there is no significant difference in the skewness of the reviews of elite users compared to normal user.\n",
    "    "
   ]
  }
 ],
 "metadata": {
  "kernelspec": {
   "display_name": "Python 3",
   "language": "python",
   "name": "python3"
  },
  "language_info": {
   "codemirror_mode": {
    "name": "ipython",
    "version": 3
   },
   "file_extension": ".py",
   "mimetype": "text/x-python",
   "name": "python",
   "nbconvert_exporter": "python",
   "pygments_lexer": "ipython3",
   "version": "3.8.3"
  }
 },
 "nbformat": 4,
 "nbformat_minor": 4
}
